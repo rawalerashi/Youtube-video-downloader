{
  "nbformat": 4,
  "nbformat_minor": 0,
  "metadata": {
    "colab": {
      "name": "Youtube Video Downloader.ipynb",
      "provenance": []
    },
    "kernelspec": {
      "name": "python3",
      "display_name": "Python 3"
    },
    "language_info": {
      "name": "python"
    }
  },
  "cells": [
    {
      "cell_type": "code",
      "metadata": {
        "colab": {
          "base_uri": "https://localhost:8080/"
        },
        "id": "Ghi0HoT9V8RU",
        "outputId": "5af168c5-a07b-44ac-fa97-469de20f6ab4"
      },
      "source": [
        "pip install pytube"
      ],
      "execution_count": null,
      "outputs": [
        {
          "output_type": "stream",
          "text": [
            "Collecting pytube\n",
            "  Downloading pytube-11.0.0-py3-none-any.whl (55 kB)\n",
            "\u001b[?25l\r\u001b[K     |█████▉                          | 10 kB 19.0 MB/s eta 0:00:01\r\u001b[K     |███████████▊                    | 20 kB 24.9 MB/s eta 0:00:01\r\u001b[K     |█████████████████▋              | 30 kB 13.9 MB/s eta 0:00:01\r\u001b[K     |███████████████████████▌        | 40 kB 10.1 MB/s eta 0:00:01\r\u001b[K     |█████████████████████████████▎  | 51 kB 5.2 MB/s eta 0:00:01\r\u001b[K     |████████████████████████████████| 55 kB 2.1 MB/s \n",
            "\u001b[?25hInstalling collected packages: pytube\n",
            "Successfully installed pytube-11.0.0\n"
          ],
          "name": "stdout"
        }
      ]
    },
    {
      "cell_type": "code",
      "metadata": {
        "id": "2JZsvgvvWAQa"
      },
      "source": [
        "from pytube import YouTube\n",
        "link=input(\"LINK PLZ!!!!!\")\n",
        "yt=YouTube(link)\n",
        "ys=yt.streams.get_highest_resolution()\n",
        "print(\"Wait for a while !\")\n",
        "ys.download()\n",
        "ys.pwd\n",
        "print(ys.path)\n",
        "print(\"Download Complete\")"
      ],
      "execution_count": null,
      "outputs": []
    },
    {
      "cell_type": "code",
      "metadata": {
        "id": "kIql9amHWASy"
      },
      "source": [
        ""
      ],
      "execution_count": null,
      "outputs": []
    },
    {
      "cell_type": "code",
      "metadata": {
        "id": "cQTEgPLaWAVa"
      },
      "source": [
        ""
      ],
      "execution_count": null,
      "outputs": []
    },
    {
      "cell_type": "code",
      "metadata": {
        "id": "zKE-nYh-WAX4"
      },
      "source": [
        ""
      ],
      "execution_count": null,
      "outputs": []
    },
    {
      "cell_type": "code",
      "metadata": {
        "id": "RZ02RuHkWAaZ"
      },
      "source": [
        ""
      ],
      "execution_count": null,
      "outputs": []
    },
    {
      "cell_type": "code",
      "metadata": {
        "id": "b15GneJYWAcg"
      },
      "source": [
        ""
      ],
      "execution_count": null,
      "outputs": []
    },
    {
      "cell_type": "code",
      "metadata": {
        "id": "35pgBsL_WAfJ"
      },
      "source": [
        ""
      ],
      "execution_count": null,
      "outputs": []
    }
  ]
}